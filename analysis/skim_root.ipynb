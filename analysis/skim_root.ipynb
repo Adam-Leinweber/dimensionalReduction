{
 "cells": [
  {
   "cell_type": "code",
   "execution_count": 9,
   "metadata": {},
   "outputs": [
    {
     "data": {
      "text/plain": [
       "'3.7.4 (default, Aug 13 2019, 20:35:49) \\n[GCC 7.3.0]'"
      ]
     },
     "execution_count": 9,
     "metadata": {},
     "output_type": "execute_result"
    }
   ],
   "source": [
    "import numpy as np\n",
    "import pandas as pd\n",
    "import sys\n",
    "import re\n",
    "import matplotlib.pyplot as plt\n",
    "import uproot\n",
    "import glob\n",
    "\n",
    "sys.version"
   ]
  },
  {
   "cell_type": "code",
   "execution_count": 12,
   "metadata": {},
   "outputs": [],
   "source": [
    "#path to signal root file for skimming\n",
    "signals = np.array(glob.glob('/home/aleinweber/Madgraph/MG5_aMC_v3_3_1/Generate/root_files/neg1748*.root'))\n",
    "#signals = [signals[0]] #grab first file for testing purposes\n",
    "\n",
    "processes = np.array([x.split('_')[-2] for x in signals])"
   ]
  },
  {
   "cell_type": "code",
   "execution_count": 13,
   "metadata": {},
   "outputs": [
    {
     "name": "stdout",
     "output_type": "stream",
     "text": [
      "/home/aleinweber/Madgraph/MG5_aMC_v3_3_1/Generate/root_files/neg1748.63884_96.8153222_1.08875178_-71.3416523_x1n3_jets.root\n",
      "[0.18180285]\n",
      "/home/aleinweber/Madgraph/MG5_aMC_v3_3_1/Generate/root_files/neg1748.63884_96.8153222_1.08875178_-71.3416523_n1n2_jets.root\n",
      "[6.516298]\n",
      "/home/aleinweber/Madgraph/MG5_aMC_v3_3_1/Generate/root_files/neg1748.63884_96.8153222_1.08875178_-71.3416523_x1n2_jets.root\n",
      "[9.283718]\n",
      "/home/aleinweber/Madgraph/MG5_aMC_v3_3_1/Generate/root_files/neg1748.63884_96.8153222_1.08875178_-71.3416523_x2n2_jets.root\n",
      "[0.18814594]\n",
      "/home/aleinweber/Madgraph/MG5_aMC_v3_3_1/Generate/root_files/neg1748.63884_96.8153222_1.08875178_-71.3416523_x1+x1-_jets.root\n",
      "[4.852972]\n"
     ]
    }
   ],
   "source": [
    "weights_total = np.array([])\n",
    "\n",
    "f_counter = 0\n",
    "event_number = 0\n",
    "for filename, process in zip(signals, processes):\n",
    "    #path to csv file for saving of skimmed data\n",
    "    out_file = '/home/aleinweber/Research/dimensionalReduction/non-simplified/data/sig/neg1748.63884_96.8153222_1.08875178_-71.3416523_'+process+'_gt2lep.csv'\n",
    "    f_counter += 1\n",
    "    with uproot.reading.open(filename) as f_in, open(out_file,'w') as f_out:\n",
    "        events = f_in[\"Delphes;1\"]\n",
    "        print(filename)\n",
    "        electron_Particle = events[\"Electron.Particle\"]\n",
    "        muon_Particle = events[\"Muon.Particle\"]\n",
    "        # jet_Particle = events[\"Jet.Particles\"]\n",
    "        electronE = [ [] for _ in electron_Particle.array(library='np')]\n",
    "        muonE = [ [] for _ in muon_Particle.array(library='np')]\n",
    "        # jetE = [ [] for _ in jet_Particle.array(library='np')]\n",
    "\n",
    "        df = electron_Particle.arrays(library=\"pd\")\n",
    "        indices = np.array([x[0] for x in df.index])\n",
    "        ref = np.array(df) \n",
    "        event_counter = 0 #count the electron-containing event we're up to\n",
    "        electron_counter = 0 #count the electron we're up to\n",
    "        for event_energies in events[\"Particle\"][\"Particle.E\"].iterate(step_size = 1, library='np'): #iterate through each event\n",
    "            if event_counter in indices: #if this event contains an electron\n",
    "                event_energies = event_energies[\"Particle.E\"][0] #convert\n",
    "                mask = indices == event_counter #get indices of all electrons in this event\n",
    "                refs = ref[mask] #get indices of particle array\n",
    "                electronE[event_counter] = event_energies[refs-1].T[0]\n",
    "                electron_counter += 1\n",
    "            event_counter += 1\n",
    "\n",
    "        df = muon_Particle.arrays(library=\"pd\")\n",
    "        indices = np.array([x[0] for x in df.index])\n",
    "        ref = np.array(df) \n",
    "        event_counter = 0 #count the muon-containing event we're up to\n",
    "        muon_counter = 0 #count the muon we're up to\n",
    "        for event_energies in events[\"Particle\"][\"Particle.E\"].iterate(step_size = 1, library='np'): #iterate through each event\n",
    "            if event_counter in indices: #if this event contains an electron\n",
    "                event_energies = event_energies[\"Particle.E\"][0] #convert\n",
    "                mask = indices == event_counter #get indices of all electrons in this event\n",
    "                refs = ref[mask] #get indices of particle array\n",
    "                muonE[event_counter] = event_energies[refs-1].T[0]\n",
    "                muon_counter += 1\n",
    "            event_counter += 1\n",
    "       \n",
    "        # Load any variables we wish to cut on\n",
    "        # Load MET\n",
    "        MissingET = events[\"MissingET\"]\n",
    "        MET = MissingET[\"MissingET.MET\"].array(library='np')\n",
    "        METPhi = MissingET[\"MissingET.Phi\"].array(library='np')\n",
    "                                                 \n",
    "        # Load Jets\n",
    "        jets = events[\"Jet\"]\n",
    "        N_jets = events[\"Jet_size\"].array(library='np')\n",
    "        jetPT = jets[\"Jet.PT\"].array(library='np')\n",
    "        jetEta = jets[\"Jet.Eta\"].array(library='np')\n",
    "        jetPhi = jets[\"Jet.Phi\"].array(library='np')\n",
    "        btag = jets[\"Jet.BTag\"].array(library='np')\n",
    "        \n",
    "        # Load Electrons\n",
    "        electrons = events[\"Electron\"]\n",
    "        N_electrons = events[\"Electron_size\"].array(library='np')\n",
    "        electronPT = electrons[\"Electron.PT\"].array(library='np')\n",
    "        electronEta = electrons[\"Electron.Eta\"].array(library='np')\n",
    "        electronPhi = electrons[\"Electron.Phi\"].array(library='np')\n",
    "        electronCharge = electrons[\"Electron.Charge\"].array(library='np')\n",
    "        \n",
    "        # Load Muons\n",
    "        muons = events[\"Muon\"]\n",
    "        N_muons = events[\"Muon_size\"].array(library='np')\n",
    "        muonPT = muons[\"Muon.PT\"].array(library='np')\n",
    "        muonEta = muons[\"Muon.Eta\"].array(library='np')\n",
    "        muonPhi = muons[\"Muon.Phi\"].array(library='np')\n",
    "        muonCharge = muons[\"Muon.Charge\"].array(library='np')\n",
    "\n",
    "        N_leps = N_muons + N_electrons    \n",
    "        \n",
    "        weights = events[\"Event\"][\"Event.Weight\"].array(library='np')\n",
    "        factor = np.average(weights)/sum(weights)\n",
    "        \n",
    "        N_events = len(weights)\n",
    "        weights_total = np.append(weights_total, weights)\n",
    "        print(sum(weights)*factor)\n",
    "        \n",
    "        #If event passes selection criterea, save it\n",
    "        for i in range(N_events):\n",
    "            if N_leps[i] >= 2:\n",
    "                weight = factor*weights[i]\n",
    "                line = str(i)+';'+process+';'+str(weight[0])+';'+str(MET[i][0]*1000)+';'+str(METPhi[i][0])+';'\n",
    "                for pT, eta, phi, b in zip(jetPT[i], jetEta[i], jetPhi[i], btag[i]):\n",
    "                    if b == 1:\n",
    "                        line += 'b,'+'E'+','+str(pT*1000)+','+str(eta)+','+str(phi)+';'\n",
    "                    elif b == 0:\n",
    "                        line += 'j,'+'E'+','+str(pT*1000)+','+str(eta)+','+str(phi)+';'\n",
    "                for E, pT, eta, phi, charge in zip(electronE[i], electronPT[i], electronEta[i], electronPhi[i], electronCharge[i]):\n",
    "                    if charge == -1:\n",
    "                        line += 'e-,'+str(E*1000)+','+str(pT*1000)+','+str(eta)+','+str(phi)+';'\n",
    "                    elif charge == +1:\n",
    "                        line += 'e+,'+str(E*1000)+','+str(pT*1000)+','+str(eta)+','+str(phi)+';'\n",
    "                for E, pT, eta, phi, charge in zip(muonE[i], muonPT[i], muonEta[i], muonPhi[i], muonCharge[i]):\n",
    "                    if charge == -1:\n",
    "                        line += 'm-,'+str(E*1000)+','+str(pT*1000)+','+str(eta)+','+str(phi)+';'\n",
    "                    elif charge == +1:\n",
    "                        line += 'm+,'+str(E*1000)+','+str(pT*1000)+','+str(eta)+','+str(phi)+';'\n",
    "                line += '\\n'\n",
    "                f_out.write(line)\n",
    "\n",
    "        \n",
    "\n",
    "        "
   ]
  },
  {
   "cell_type": "code",
   "execution_count": null,
   "metadata": {},
   "outputs": [],
   "source": []
  }
 ],
 "metadata": {
  "kernelspec": {
   "display_name": "Python 3",
   "language": "python",
   "name": "python3"
  },
  "language_info": {
   "codemirror_mode": {
    "name": "ipython",
    "version": 3
   },
   "file_extension": ".py",
   "mimetype": "text/x-python",
   "name": "python",
   "nbconvert_exporter": "python",
   "pygments_lexer": "ipython3",
   "version": "3.6.9"
  }
 },
 "nbformat": 4,
 "nbformat_minor": 2
}
